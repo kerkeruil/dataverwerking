{
 "cells": [
  {
   "cell_type": "code",
   "execution_count": 1,
   "metadata": {},
   "outputs": [],
   "source": [
    "import pandas as pd\n",
    "data = pd.read_csv(\"data_clean.csv\")\n",
    "\n",
    "from bokeh.io import show, output_file, output_notebook\n",
    "from bokeh.plotting import figure"
   ]
  },
  {
   "cell_type": "code",
   "execution_count": 2,
   "metadata": {},
   "outputs": [
    {
     "name": "stdout",
     "output_type": "stream",
     "text": [
      "270\n",
      "332\n",
      "383\n",
      "345\n",
      "([270, 332, 383, 345, 54], ['2014', '2015', '2016', '2017', '2018'])\n"
     ]
    }
   ],
   "source": [
    "dates = data[\"date\"]\n",
    "characteristics = data[\"incident_characteristics\"]\n",
    "\n",
    "shootings = 0\n",
    "list_year = []\n",
    "list_shootings = []\n",
    "length = len(data)\n",
    "\n",
    "for i in range(length):\n",
    "    if i != length -1 and dates[i][:4] < dates[i+1][:4]:\n",
    "        list_year.append(dates[i][:4])\n",
    "        list_shootings.append(shootings)\n",
    "        print(shootings)\n",
    "        shootings = 0\n",
    "    else:\n",
    "        if pd.isna(characteristics[i]) == False and \"Mass Shooting\" in characteristics[i]:\n",
    "            shootings += 1\n",
    "                         \n",
    "\n",
    "list_year.append(dates[i][:4])\n",
    "list_shootings.append(shootings)\n",
    "    \n",
    "print(list_shootings, list_year)"
   ]
  },
  {
   "cell_type": "code",
   "execution_count": 5,
   "metadata": {},
   "outputs": [
    {
     "data": {
      "text/html": [
       "\n",
       "<div class=\"bk-root\">\n",
       "    <div class=\"bk-plotdiv\" id=\"1c0f4386-69a0-42d6-ad15-1b7e40040ed5\"></div>\n",
       "</div>"
      ]
     },
     "metadata": {},
     "output_type": "display_data"
    },
    {
     "data": {
      "application/javascript": [
       "(function(root) {\n",
       "  function embed_document(root) {\n",
       "    \n",
       "  var docs_json = {\"6f2619f4-fb1b-4c80-8ba3-9fcd3ae096ab\":{\"roots\":{\"references\":[{\"attributes\":{\"grid_line_color\":{\"value\":null},\"plot\":{\"id\":\"f187f0b6-00fe-4342-ac29-2497dc73bf46\",\"subtype\":\"Figure\",\"type\":\"Plot\"},\"ticker\":{\"id\":\"4e73ee04-f34f-4926-9335-2bc6f4db6da5\",\"type\":\"CategoricalTicker\"}},\"id\":\"bf06c942-6ebf-401f-959f-52f0232a29a8\",\"type\":\"Grid\"},{\"attributes\":{\"callback\":null,\"start\":0},\"id\":\"0ab6e250-6774-4900-888d-0aa4443a6366\",\"type\":\"DataRange1d\"},{\"attributes\":{\"formatter\":{\"id\":\"f971092b-2733-40d9-854b-6257e2aadd50\",\"type\":\"BasicTickFormatter\"},\"plot\":{\"id\":\"f187f0b6-00fe-4342-ac29-2497dc73bf46\",\"subtype\":\"Figure\",\"type\":\"Plot\"},\"ticker\":{\"id\":\"c7c29d3b-ebcf-471e-a4b1-9ce7f99a1c7d\",\"type\":\"BasicTicker\"}},\"id\":\"b54e8290-4c05-441d-b2c5-b3cf94a51f03\",\"type\":\"LinearAxis\"},{\"attributes\":{\"fill_alpha\":{\"value\":0.1},\"fill_color\":{\"value\":\"#1f77b4\"},\"line_alpha\":{\"value\":0.1},\"line_color\":{\"value\":\"#1f77b4\"},\"top\":{\"field\":\"top\"},\"width\":{\"value\":0.9},\"x\":{\"field\":\"x\"}},\"id\":\"005322e3-2afc-4f92-9d23-77af8ab891e9\",\"type\":\"VBar\"},{\"attributes\":{\"data_source\":{\"id\":\"606d5226-34d6-41f7-b854-f4d8a0964ca3\",\"type\":\"ColumnDataSource\"},\"glyph\":{\"id\":\"8c095f52-6706-4eb4-8c10-0dfcc2ce6aff\",\"type\":\"VBar\"},\"hover_glyph\":null,\"muted_glyph\":null,\"nonselection_glyph\":{\"id\":\"005322e3-2afc-4f92-9d23-77af8ab891e9\",\"type\":\"VBar\"},\"selection_glyph\":null,\"view\":{\"id\":\"3929ce9c-2dc0-4b18-83a0-b39543c3733b\",\"type\":\"CDSView\"}},\"id\":\"f341e307-55eb-46eb-b647-f3fa4f715a88\",\"type\":\"GlyphRenderer\"},{\"attributes\":{\"callback\":null,\"factors\":[\"2014\",\"2015\",\"2016\",\"2017\",\"2018\"]},\"id\":\"96957fb5-bef6-4adf-bd4d-443d72d1328b\",\"type\":\"FactorRange\"},{\"attributes\":{\"fill_color\":{\"value\":\"#1f77b4\"},\"line_color\":{\"value\":\"#1f77b4\"},\"top\":{\"field\":\"top\"},\"width\":{\"value\":0.9},\"x\":{\"field\":\"x\"}},\"id\":\"8c095f52-6706-4eb4-8c10-0dfcc2ce6aff\",\"type\":\"VBar\"},{\"attributes\":{\"dimension\":1,\"plot\":{\"id\":\"f187f0b6-00fe-4342-ac29-2497dc73bf46\",\"subtype\":\"Figure\",\"type\":\"Plot\"},\"ticker\":{\"id\":\"c7c29d3b-ebcf-471e-a4b1-9ce7f99a1c7d\",\"type\":\"BasicTicker\"}},\"id\":\"951efecd-2f24-4735-9b2d-e99878753ad8\",\"type\":\"Grid\"},{\"attributes\":{},\"id\":\"22074acf-688c-4c41-83b9-f6e50ef3f44a\",\"type\":\"CategoricalScale\"},{\"attributes\":{},\"id\":\"4e73ee04-f34f-4926-9335-2bc6f4db6da5\",\"type\":\"CategoricalTicker\"},{\"attributes\":{\"plot\":null,\"text\":\"Mass shootings per year\"},\"id\":\"0d33f6b3-387f-4eb2-8402-0a2af7f021eb\",\"type\":\"Title\"},{\"attributes\":{\"source\":{\"id\":\"606d5226-34d6-41f7-b854-f4d8a0964ca3\",\"type\":\"ColumnDataSource\"}},\"id\":\"3929ce9c-2dc0-4b18-83a0-b39543c3733b\",\"type\":\"CDSView\"},{\"attributes\":{},\"id\":\"634163b8-d286-44b3-82ed-44179dd9d7a4\",\"type\":\"LinearScale\"},{\"attributes\":{\"below\":[{\"id\":\"40d123b9-9502-477b-88c4-0bc6efe84bbd\",\"type\":\"CategoricalAxis\"}],\"left\":[{\"id\":\"b54e8290-4c05-441d-b2c5-b3cf94a51f03\",\"type\":\"LinearAxis\"}],\"plot_height\":250,\"renderers\":[{\"id\":\"40d123b9-9502-477b-88c4-0bc6efe84bbd\",\"type\":\"CategoricalAxis\"},{\"id\":\"bf06c942-6ebf-401f-959f-52f0232a29a8\",\"type\":\"Grid\"},{\"id\":\"b54e8290-4c05-441d-b2c5-b3cf94a51f03\",\"type\":\"LinearAxis\"},{\"id\":\"951efecd-2f24-4735-9b2d-e99878753ad8\",\"type\":\"Grid\"},{\"id\":\"f341e307-55eb-46eb-b647-f3fa4f715a88\",\"type\":\"GlyphRenderer\"}],\"title\":{\"id\":\"0d33f6b3-387f-4eb2-8402-0a2af7f021eb\",\"type\":\"Title\"},\"toolbar\":{\"id\":\"e6954024-ff30-49b8-b3d4-fdd747985ca4\",\"type\":\"Toolbar\"},\"toolbar_location\":null,\"x_range\":{\"id\":\"96957fb5-bef6-4adf-bd4d-443d72d1328b\",\"type\":\"FactorRange\"},\"x_scale\":{\"id\":\"22074acf-688c-4c41-83b9-f6e50ef3f44a\",\"type\":\"CategoricalScale\"},\"y_range\":{\"id\":\"0ab6e250-6774-4900-888d-0aa4443a6366\",\"type\":\"DataRange1d\"},\"y_scale\":{\"id\":\"634163b8-d286-44b3-82ed-44179dd9d7a4\",\"type\":\"LinearScale\"}},\"id\":\"f187f0b6-00fe-4342-ac29-2497dc73bf46\",\"subtype\":\"Figure\",\"type\":\"Plot\"},{\"attributes\":{},\"id\":\"c7c29d3b-ebcf-471e-a4b1-9ce7f99a1c7d\",\"type\":\"BasicTicker\"},{\"attributes\":{},\"id\":\"845cc013-ef12-4273-a777-98022d2cd52b\",\"type\":\"Selection\"},{\"attributes\":{\"callback\":null,\"data\":{\"top\":[270,332,383,345,54],\"x\":[\"2014\",\"2015\",\"2016\",\"2017\",\"2018\"]},\"selected\":{\"id\":\"845cc013-ef12-4273-a777-98022d2cd52b\",\"type\":\"Selection\"},\"selection_policy\":{\"id\":\"248f14f0-e51c-4b56-a5a3-dc575f02575e\",\"type\":\"UnionRenderers\"}},\"id\":\"606d5226-34d6-41f7-b854-f4d8a0964ca3\",\"type\":\"ColumnDataSource\"},{\"attributes\":{\"active_drag\":\"auto\",\"active_inspect\":\"auto\",\"active_scroll\":\"auto\",\"active_tap\":\"auto\"},\"id\":\"e6954024-ff30-49b8-b3d4-fdd747985ca4\",\"type\":\"Toolbar\"},{\"attributes\":{\"formatter\":{\"id\":\"b14702a3-8870-4e24-be4e-84a494f6e649\",\"type\":\"CategoricalTickFormatter\"},\"plot\":{\"id\":\"f187f0b6-00fe-4342-ac29-2497dc73bf46\",\"subtype\":\"Figure\",\"type\":\"Plot\"},\"ticker\":{\"id\":\"4e73ee04-f34f-4926-9335-2bc6f4db6da5\",\"type\":\"CategoricalTicker\"}},\"id\":\"40d123b9-9502-477b-88c4-0bc6efe84bbd\",\"type\":\"CategoricalAxis\"},{\"attributes\":{},\"id\":\"248f14f0-e51c-4b56-a5a3-dc575f02575e\",\"type\":\"UnionRenderers\"},{\"attributes\":{},\"id\":\"b14702a3-8870-4e24-be4e-84a494f6e649\",\"type\":\"CategoricalTickFormatter\"},{\"attributes\":{},\"id\":\"f971092b-2733-40d9-854b-6257e2aadd50\",\"type\":\"BasicTickFormatter\"}],\"root_ids\":[\"f187f0b6-00fe-4342-ac29-2497dc73bf46\"]},\"title\":\"Bokeh Application\",\"version\":\"0.12.16\"}};\n",
       "  var render_items = [{\"docid\":\"6f2619f4-fb1b-4c80-8ba3-9fcd3ae096ab\",\"elementid\":\"1c0f4386-69a0-42d6-ad15-1b7e40040ed5\",\"modelid\":\"f187f0b6-00fe-4342-ac29-2497dc73bf46\"}];\n",
       "  root.Bokeh.embed.embed_items_notebook(docs_json, render_items);\n",
       "\n",
       "  }\n",
       "  if (root.Bokeh !== undefined) {\n",
       "    embed_document(root);\n",
       "  } else {\n",
       "    var attempts = 0;\n",
       "    var timer = setInterval(function(root) {\n",
       "      if (root.Bokeh !== undefined) {\n",
       "        embed_document(root);\n",
       "        clearInterval(timer);\n",
       "      }\n",
       "      attempts++;\n",
       "      if (attempts > 100) {\n",
       "        console.log(\"Bokeh: ERROR: Unable to run BokehJS code because BokehJS library is missing\")\n",
       "        clearInterval(timer);\n",
       "      }\n",
       "    }, 10, root)\n",
       "  }\n",
       "})(window);"
      ],
      "application/vnd.bokehjs_exec.v0+json": ""
     },
     "metadata": {
      "application/vnd.bokehjs_exec.v0+json": {
       "id": "f187f0b6-00fe-4342-ac29-2497dc73bf46"
      }
     },
     "output_type": "display_data"
    }
   ],
   "source": [
    "output_file(\"bars.html\")\n",
    "\n",
    "years = list_year\n",
    "shootings = list_shootings\n",
    "\n",
    "p = figure(x_range=years, plot_height=250, title=\"Mass shootings per year\",\n",
    "           toolbar_location=None, tools=\"\")\n",
    "\n",
    "p.vbar(x=years, top=shootings, width=0.9)\n",
    "\n",
    "p.xgrid.grid_line_color = None\n",
    "p.y_range.start = 0\n",
    "\n",
    "\n",
    "show(p)"
   ]
  }
 ],
 "metadata": {
  "kernelspec": {
   "display_name": "Python 3",
   "language": "python",
   "name": "python3"
  },
  "language_info": {
   "codemirror_mode": {
    "name": "ipython",
    "version": 2
   },
   "file_extension": ".py",
   "mimetype": "text/x-python",
   "name": "python",
   "nbconvert_exporter": "python",
   "pygments_lexer": "ipython2",
   "version": "2.7.12"
  }
 },
 "nbformat": 4,
 "nbformat_minor": 2
}
