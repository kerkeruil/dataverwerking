{
 "cells": [
  {
   "cell_type": "markdown",
   "metadata": {},
   "source": [
    "# Import shit"
   ]
  },
  {
   "cell_type": "code",
   "execution_count": 4,
   "metadata": {},
   "outputs": [],
   "source": [
    "from bokeh.plotting import figure\n",
    "data = pd.read_csv(\"data_clean.csv\")\n",
    "\n",
    "from bokeh.io import output_file, show\n",
    "import pandas as pd"
   ]
  },
  {
   "cell_type": "code",
   "execution_count": 5,
   "metadata": {},
   "outputs": [
    {
     "name": "stdout",
     "output_type": "stream",
     "text": [
      "12557\n",
      "13484\n",
      "15066\n",
      "15511\n",
      "3533\n",
      "['2014', '2015', '2016', '2017', '2018']\n",
      "[12557, 13484, 15066, 15511, 3533]\n"
     ]
    }
   ],
   "source": [
    "dates = data[\"date\"]\n",
    "\n",
    "total = 0\n",
    "list_year = []\n",
    "list_killed =[]\n",
    "length = len(data)\n",
    "\n",
    "for i in range(length):\n",
    "    if i != length -1 and dates[i][:4] < dates[i+1][:4]:\n",
    "        list_year.append(dates[i][:4])\n",
    "        list_killed.append(total)\n",
    "        print(total)\n",
    "        total = 0\n",
    "    else:\n",
    "        total += data[\"n_killed\"][i]\n",
    "        \n",
    "list_year.append(dates[i][:4])\n",
    "list_killed.append(total)\n",
    "print(total)\n",
    "    \n",
    "print(list_year)\n",
    "print(list_killed)"
   ]
  }
 ],
 "metadata": {
  "kernelspec": {
   "display_name": "Python 3",
   "language": "python",
   "name": "python3"
  },
  "language_info": {
   "codemirror_mode": {
    "name": "ipython",
    "version": 2
   },
   "file_extension": ".py",
   "mimetype": "text/x-python",
   "name": "python",
   "nbconvert_exporter": "python",
   "pygments_lexer": "ipython2",
   "version": "2.7.12"
  }
 },
 "nbformat": 4,
 "nbformat_minor": 2
}
