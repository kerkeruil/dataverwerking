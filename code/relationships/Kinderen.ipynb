{
 "cells": [
  {
   "cell_type": "code",
   "execution_count": 2,
   "metadata": {},
   "outputs": [],
   "source": [
    "import pandas as pd\n",
    "data = pd.read_csv(\"data_clean.csv\")\n",
    "\n",
    "from bokeh.io import show, output_file\n",
    "from bokeh.plotting import figure\n",
    "\n",
    "from bokeh.core.properties import value\n",
    "from bokeh.models import ColumnDataSource, HoverTool, FactorRange"
   ]
  },
  {
   "cell_type": "markdown",
   "metadata": {},
   "source": [
    "## Get data"
   ]
  },
  {
   "cell_type": "code",
   "execution_count": 3,
   "metadata": {
    "scrolled": true
   },
   "outputs": [
    {
     "name": "stdout",
     "output_type": "stream",
     "text": [
      "('total:', 3953)\n",
      "___________________________\n",
      "('accidental:', 3953)\n",
      "('domestic:', 520)\n",
      "('car:', 825)\n",
      "('home invasions:', 371)\n",
      "('hunting:', 30)\n",
      "('Gang involvement', 116)\n"
     ]
    }
   ],
   "source": [
    "age_group = data[\"participant_age_group\"]\n",
    "p_type = data[\"participant_type\"]\n",
    "characteristic = data[\"incident_characteristics\"]\n",
    "\n",
    "for i in range(len(data)):\n",
    "    if \"||\" in str(age_group[i]):\n",
    "        data.at[i, \"participant_age_group\"] = str(age_group[i]).replace(\"||\", \"|\")\n",
    "    if \"||\" in str(p_type[i]):\n",
    "        data.at[i, \"participant_type\"] = str(p_type[i]).replace(\"||\", \"|\")\n",
    "        \n",
    "dead_childeren = 0\n",
    "domestic = 0\n",
    "suicide = 0\n",
    "accidental = 0\n",
    "home = 0\n",
    "car = 0\n",
    "hunting = 0\n",
    "gang = 0\n",
    "\n",
    "for i in range(len(data)):\n",
    "    list_age = str(age_group[i]).split(\"|\")\n",
    "    list_type = str(p_type[i]).split(\"|\")\n",
    "    for j in range(len(list_age)):\n",
    "        if \"Child\" in list_age[j] and \"Victim\" in list_type[j]:\n",
    "            dead_childeren+=1\n",
    "            if \"Domestic Violence\" in str(characteristic[i]):\n",
    "                domestic +=1\n",
    "            if \"accidental\" or \"Accidental\" in str(characteristic[i]):\n",
    "                accidental +=1\n",
    "            if \"car\" in str(characteristic[i]):\n",
    "                car +=1\n",
    "            if \"Home Invasion\" in str(characteristic[i]):\n",
    "                home +=1\n",
    "            if \"Hunting\" in str(characteristic[i]):\n",
    "                hunting +=1\n",
    "            if \"Gang involvement\" in str(characteristic[i]):\n",
    "                gang +=1\n",
    "                \n",
    "            \n",
    "            \n",
    "print('total:', dead_childeren)\n",
    "print('___________________________')\n",
    "print('accidental:', accidental)\n",
    "print('domestic:', domestic)\n",
    "print('car:', car)\n",
    "\n",
    "#SWAT team heeft dus kinderen geraakt\n",
    "print('home invasions:', home)\n",
    "print('hunting:', hunting)\n",
    "print('Gang involvement', gang)"
   ]
  },
  {
   "cell_type": "markdown",
   "metadata": {},
   "source": [
    "## Bar chart met verschillende bars\n",
    "(hover tools nog implementeren)"
   ]
  },
  {
   "cell_type": "code",
   "execution_count": 4,
   "metadata": {},
   "outputs": [],
   "source": [
    "output_file(\"bars.html\")\n",
    "\n",
    "causes = ['total', 'accidental', 'domestic', 'car accidents', 'home invasion', 'hunting', 'gang involvement']\n",
    "values = [dead_childeren, accidental, domestic, car, home, hunting, gang]\n",
    "\n",
    "hover = HoverTool(tooltips=[\n",
    "    (\"value:\",\"@value\"),\n",
    "])\n",
    "\n",
    "source = ColumnDataSource(data=dict(\n",
    "    value = values,\n",
    "))\n",
    "\n",
    "p = figure(x_range=causes, plot_height=250, title=\"Childerens death\",\n",
    "           toolbar_location=None, tools=[hover])\n",
    "\n",
    "p.vbar(x=causes, top=values, width=0.9)\n",
    "\n",
    "p.xgrid.grid_line_color = None\n",
    "p.y_range.start = 0\n",
    "\n",
    "\n",
    "show(p)"
   ]
  }
 ],
 "metadata": {
  "kernelspec": {
   "display_name": "Python 3",
   "language": "python",
   "name": "python3"
  },
  "language_info": {
   "codemirror_mode": {
    "name": "ipython",
    "version": 2
   },
   "file_extension": ".py",
   "mimetype": "text/x-python",
   "name": "python",
   "nbconvert_exporter": "python",
   "pygments_lexer": "ipython2",
   "version": "2.7.12"
  }
 },
 "nbformat": 4,
 "nbformat_minor": 2
}
