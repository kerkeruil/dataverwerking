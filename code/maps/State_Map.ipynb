{
 "cells": [
  {
   "cell_type": "code",
   "execution_count": 76,
   "metadata": {},
   "outputs": [],
   "source": [
    "import pandas as pd\n",
    "\n",
    "data = pd.read_csv(\"data_clean.csv\")\n",
    "date = clean[\"date\"]\n",
    "n_killed = data[\"n_killed\"]\n",
    "n_injured = data[\"n_injured\"]\n",
    "state = data[\"state\"]"
   ]
  },
  {
   "cell_type": "code",
   "execution_count": 77,
   "metadata": {},
   "outputs": [
    {
     "name": "stdout",
     "output_type": "stream",
     "text": [
      "{'Michigan': 1457, 'New Jersey': 1099, 'New York': 1623, 'Missouri': 1999, 'Georgia': 2323, 'Kentucky': 985, 'Virginia': 1384, 'Pennsylvania': 2246, 'South Carolina': 1510, 'Maryland': 1607, 'Delaware': 206, 'Colorado': 731, 'Alabama': 1742, 'Louisiana': 2042, 'Utah': 268, 'Indiana': 1503, 'Illinois': 3230, 'Texas': 4712, 'Nebraska': 214, 'Massachusetts': 450, 'Florida': 3620, 'Mississippi': 1068, 'Wisconsin': 816, 'Arizona': 1001, 'Hawaii': 62, 'Washington': 791, 'Ohio': 2359, 'Kansas': 498, 'District of Columbia': 422, 'West Virginia': 308, 'New Hampshire': 87, 'Rhode Island': 57, 'North Carolina': 2112, 'California': 5212, 'Oklahoma': 883, 'Connecticut': 322, 'Iowa': 263, 'Alaska': 256, 'Arkansas': 730, 'Tennessee': 1712, 'Nevada': 738, 'Minnesota': 432, 'Idaho': 152, 'Oregon': 415, 'Wyoming': 63, 'Maine': 104, 'North Dakota': 66, 'New Mexico': 453, 'Montana': 149, 'Vermont': 53, 'South Dakota': 83}\n"
     ]
    }
   ],
   "source": [
    "killed_dict = {}\n",
    "\n",
    "# make a dictionary of per state the number of killed people\n",
    "for i in range(len(clean)):\n",
    "    if \"2018\" in date[i]:\n",
    "        break\n",
    "    if state[i] not in killed_dict:\n",
    "        killed_dict[state[i]] = 0\n",
    "    if state[i] in killed_dict:\n",
    "        killed_dict[state[i]] += n_killed[i]\n",
    "\n",
    "print(killstate)"
   ]
  },
  {
   "cell_type": "code",
   "execution_count": 78,
   "metadata": {},
   "outputs": [
    {
     "name": "stdout",
     "output_type": "stream",
     "text": [
      "{'Michigan': 5392, 'New Jersey': 5150, 'New York': 9360, 'Missouri': 6257, 'Georgia': 8502, 'Kentucky': 3943, 'Virginia': 5651, 'Pennsylvania': 8414, 'South Carolina': 6568, 'Maryland': 5423, 'Delaware': 1577, 'Colorado': 2966, 'Alabama': 5123, 'Louisiana': 7656, 'Utah': 1016, 'Indiana': 5518, 'Illinois': 16696, 'Texas': 12891, 'Nebraska': 1542, 'Massachusetts': 5612, 'Florida': 14198, 'Mississippi': 3327, 'Wisconsin': 4411, 'Arizona': 2178, 'Hawaii': 271, 'Washington': 3231, 'Ohio': 9644, 'Kansas': 1993, 'District of Columbia': 3016, 'West Virginia': 1494, 'New Hampshire': 918, 'Rhode Island': 844, 'North Carolina': 8264, 'California': 15172, 'Oklahoma': 3247, 'Connecticut': 2904, 'Iowa': 2402, 'Alaska': 1289, 'Arkansas': 2651, 'Tennessee': 7242, 'Nevada': 1841, 'Minnesota': 2088, 'Idaho': 611, 'Oregon': 2148, 'Wyoming': 481, 'Maine': 850, 'North Dakota': 543, 'New Mexico': 1563, 'Montana': 598, 'Vermont': 453, 'South Dakota': 519}\n"
     ]
    }
   ],
   "source": [
    "incidents_dict = {}\n",
    "\n",
    "# make a dictionary of all the incidents per state\n",
    "for i in range(len(data)):\n",
    "    if \"2018\" in date[i]:\n",
    "        break\n",
    "    if state[i] not in incidents_dict:\n",
    "        incidents_dict[state[i]] = 1\n",
    "    if state[i] in incidents_dict:\n",
    "        incidents_dict[state[i]] += 1\n",
    "        \n",
    "print(incidents_dict)"
   ]
  },
  {
   "cell_type": "code",
   "execution_count": 79,
   "metadata": {},
   "outputs": [],
   "source": [
    "# append the incident dictionary to the killed dictionary\n",
    "for key in incidents_dict:\n",
    "    if key in killed_dict:\n",
    "        killed_dict[key] = [killed_dict[key]] + [incidents_dict[key]]"
   ]
  },
  {
   "cell_type": "code",
   "execution_count": 80,
   "metadata": {},
   "outputs": [
    {
     "name": "stdout",
     "output_type": "stream",
     "text": [
      "{'AK': [256, 1289], 'AL': [1742, 5123], 'AR': [730, 2651], 'AZ': [1001, 2178], 'CA': [5212, 15172], 'CO': [731, 2966], 'CT': [322, 2904], 'DC': [422, 3016], 'DE': [206, 1577], 'FL': [3620, 14198], 'GA': [2323, 8502], 'HI': [62, 271], 'IA': [263, 2402], 'ID': [152, 611], 'IL': [3230, 16696], 'IN': [1503, 5518], 'KS': [498, 1993], 'KY': [985, 3943], 'LA': [2042, 7656], 'MA': [450, 5612], 'MD': [1607, 5423], 'ME': [104, 850], 'MI': [1457, 5392], 'MN': [432, 2088], 'MO': [1999, 6257], 'MS': [1068, 3327], 'MT': [149, 598], 'NC': [2112, 8264], 'ND': [66, 543], 'NE': [214, 1542], 'NH': [87, 918], 'NJ': [1099, 5150], 'NM': [453, 1563], 'NV': [738, 1841], 'NY': [1623, 9360], 'OH': [2359, 9644], 'OK': [883, 3247], 'OR': [415, 2148], 'PA': [2246, 8414], 'RI': [57, 844], 'SC': [1510, 6568], 'SD': [83, 519], 'TN': [1712, 7242], 'TX': [4712, 12891], 'UT': [268, 1016], 'VA': [1384, 5651], 'VT': [53, 453], 'WA': [791, 3231], 'WI': [816, 4411], 'WV': [308, 1494], 'WY': [63, 481]}\n"
     ]
    }
   ],
   "source": [
    "# a dictionary of all the states and their abbreviation\n",
    "states = {\n",
    "        'AK': 'Alaska',\n",
    "        'AL': 'Alabama',\n",
    "        'AR': 'Arkansas',\n",
    "        'AS': 'American Samoa',\n",
    "        'AZ': 'Arizona',\n",
    "        'CA': 'California',\n",
    "        'CO': 'Colorado',\n",
    "        'CT': 'Connecticut',\n",
    "        'DC': 'District of Columbia',\n",
    "        'DE': 'Delaware',\n",
    "        'FL': 'Florida',\n",
    "        'GA': 'Georgia',\n",
    "        'GU': 'Guam',\n",
    "        'HI': 'Hawaii',\n",
    "        'IA': 'Iowa',\n",
    "        'ID': 'Idaho',\n",
    "        'IL': 'Illinois',\n",
    "        'IN': 'Indiana',\n",
    "        'KS': 'Kansas',\n",
    "        'KY': 'Kentucky',\n",
    "        'LA': 'Louisiana',\n",
    "        'MA': 'Massachusetts',\n",
    "        'MD': 'Maryland',\n",
    "        'ME': 'Maine',\n",
    "        'MI': 'Michigan',\n",
    "        'MN': 'Minnesota',\n",
    "        'MO': 'Missouri',\n",
    "        'MP': 'Northern Mariana Islands',\n",
    "        'MS': 'Mississippi',\n",
    "        'MT': 'Montana',\n",
    "        'NA': 'National',\n",
    "        'NC': 'North Carolina',\n",
    "        'ND': 'North Dakota',\n",
    "        'NE': 'Nebraska',\n",
    "        'NH': 'New Hampshire',\n",
    "        'NJ': 'New Jersey',\n",
    "        'NM': 'New Mexico',\n",
    "        'NV': 'Nevada',\n",
    "        'NY': 'New York',\n",
    "        'OH': 'Ohio',\n",
    "        'OK': 'Oklahoma',\n",
    "        'OR': 'Oregon',\n",
    "        'PA': 'Pennsylvania',\n",
    "        'PR': 'Puerto Rico',\n",
    "        'RI': 'Rhode Island',\n",
    "        'SC': 'South Carolina',\n",
    "        'SD': 'South Dakota',\n",
    "        'TN': 'Tennessee',\n",
    "        'TX': 'Texas',\n",
    "        'UT': 'Utah',\n",
    "        'VA': 'Virginia',\n",
    "        'VI': 'Virgin Islands',\n",
    "        'VT': 'Vermont',\n",
    "        'WA': 'Washington',\n",
    "        'WI': 'Wisconsin',\n",
    "        'WV': 'West Virginia',\n",
    "        'WY': 'Wyoming'\n",
    "}\n",
    "\n",
    "# change the states in killed dictionary to their abbreviation (new dict is states)\n",
    "for key in states:\n",
    "    for key2 in killed_dict:\n",
    "        if states[key] == key2:\n",
    "            states[key] = killed_dict[key2]\n",
    "\n",
    "# delete the states for which there is no data\n",
    "del states[\"AS\"]\n",
    "del states[\"GU\"]\n",
    "del states[\"MP\"]\n",
    "del states[\"NA\"]\n",
    "del states[\"PR\"]\n",
    "del states[\"VI\"]\n",
    "\n",
    "print(states)"
   ]
  },
  {
   "cell_type": "code",
   "execution_count": 81,
   "metadata": {},
   "outputs": [],
   "source": [
    "pop_data = pd.read_csv(\"pop_data.csv\")\n",
    "pop_states = pop_data[\"State\"]\n",
    "year_four = pop_data[\"2014\"]\n",
    "year_five = pop_data[\"2015\"]\n",
    "year_six = pop_data[\"2016\"]\n",
    "year_seven = pop_data[\"2017\"]\n",
    "\n",
    "# redefine the old states dictionary\n",
    "States = {\n",
    "        'AK': 'Alaska',\n",
    "        'AL': 'Alabama',\n",
    "        'AR': 'Arkansas',\n",
    "        'AS': 'American Samoa',\n",
    "        'AZ': 'Arizona',\n",
    "        'CA': 'California',\n",
    "        'CO': 'Colorado',\n",
    "        'CT': 'Connecticut',\n",
    "        'DC': 'District of Columbia',\n",
    "        'DE': 'Delaware',\n",
    "        'FL': 'Florida',\n",
    "        'GA': 'Georgia',\n",
    "        'GU': 'Guam',\n",
    "        'HI': 'Hawaii',\n",
    "        'IA': 'Iowa',\n",
    "        'ID': 'Idaho',\n",
    "        'IL': 'Illinois',\n",
    "        'IN': 'Indiana',\n",
    "        'KS': 'Kansas',\n",
    "        'KY': 'Kentucky',\n",
    "        'LA': 'Louisiana',\n",
    "        'MA': 'Massachusetts',\n",
    "        'MD': 'Maryland',\n",
    "        'ME': 'Maine',\n",
    "        'MI': 'Michigan',\n",
    "        'MN': 'Minnesota',\n",
    "        'MO': 'Missouri',\n",
    "        'MP': 'Northern Mariana Islands',\n",
    "        'MS': 'Mississippi',\n",
    "        'MT': 'Montana',\n",
    "        'NA': 'National',\n",
    "        'NC': 'North Carolina',\n",
    "        'ND': 'North Dakota',\n",
    "        'NE': 'Nebraska',\n",
    "        'NH': 'New Hampshire',\n",
    "        'NJ': 'New Jersey',\n",
    "        'NM': 'New Mexico',\n",
    "        'NV': 'Nevada',\n",
    "        'NY': 'New York',\n",
    "        'OH': 'Ohio',\n",
    "        'OK': 'Oklahoma',\n",
    "        'OR': 'Oregon',\n",
    "        'PA': 'Pennsylvania',\n",
    "        'PR': 'Puerto Rico',\n",
    "        'RI': 'Rhode Island',\n",
    "        'SC': 'South Carolina',\n",
    "        'SD': 'South Dakota',\n",
    "        'TN': 'Tennessee',\n",
    "        'TX': 'Texas',\n",
    "        'UT': 'Utah',\n",
    "        'VA': 'Virginia',\n",
    "        'VI': 'Virgin Islands',\n",
    "        'VT': 'Vermont',\n",
    "        'WA': 'Washington',\n",
    "        'WI': 'Wisconsin',\n",
    "        'WV': 'West Virginia',\n",
    "        'WY': 'Wyoming'\n",
    "}"
   ]
  },
  {
   "cell_type": "code",
   "execution_count": 82,
   "metadata": {},
   "outputs": [
    {
     "name": "stdout",
     "output_type": "stream",
     "text": [
      "{'AL': 4856546, 'AK': 739013, 'AZ': 6858402, 'AR': 2983234, 'CA': 39141712, 'CO': 5480003, 'CT': 3592479, 'DE': 948387, 'DC': 677960, 'FL': 20451825, 'GA': 10256595, 'HI': 1425062, 'ID': 1669171, 'IL': 12845559, 'IN': 6626150, 'IA': 3125154, 'KS': 2906549, 'KY': 4430693, 'LA': 4672624, 'ME': 1330707, 'MD': 6011933, 'MA': 6808866, 'MI': 9932150, 'MN': 5509385, 'MS': 2985847, 'MO': 6083840, 'MT': 1034349, 'NE': 1900540, 'NV': 2913020, 'NH': 1334157, 'NJ': 8971767, 'NM': 2084743, 'NY': 19819653, 'NC': 10103259, 'ND': 751114, 'OH': 11620232, 'OK': 3907858, 'OR': 4051493, 'PA': 12793521, 'RI': 1056975, 'SC': 4925343, 'SD': 858674, 'TN': 6624030, 'TX': 27654693, 'UT': 3017435, 'VT': 624282, 'VA': 8392017, 'WA': 7221606, 'WV': 1832971, 'WI': 5769854, 'WY': 583415}\n"
     ]
    }
   ],
   "source": [
    "# calculate the mean population of the four years\n",
    "def population(i):\n",
    "    new_pop = (year_four[i] + year_five[i] + year_six[i] + year_seven[i]) // 4\n",
    "    return (new_pop)\n",
    "\n",
    "# make a dictionary of the population per state\n",
    "pop_dict = {}\n",
    "for i in range(len(pop_data)):\n",
    "    for state in States:\n",
    "        if States[state] == pop_states[i]:\n",
    "            pop = population(i)\n",
    "            pop_dict[state] = pop\n",
    "            \n",
    "print(pop_dict)"
   ]
  },
  {
   "cell_type": "code",
   "execution_count": 83,
   "metadata": {},
   "outputs": [],
   "source": [
    "# make a copy of the dictionary\n",
    "import copy\n",
    "temporary = copy.deepcopy(states)"
   ]
  },
  {
   "cell_type": "code",
   "execution_count": 84,
   "metadata": {},
   "outputs": [],
   "source": [
    "# append the death rate of the state to the temporary dictionary\n",
    "for key in temporary:\n",
    "    if key in pop_dict:\n",
    "        temporary[key] = temporary[key] + [(temporary[key][0] * 100000) // pop_dict[key]]"
   ]
  },
  {
   "cell_type": "code",
   "execution_count": 86,
   "metadata": {},
   "outputs": [],
   "source": [
    "# append the incident rate of the state to the temporary dictionary\n",
    "for key in temporary:\n",
    "    if key in pop_dict:\n",
    "        temporary[key] = temporary[key] + [(temporary[key][1] * 100000) // pop_dict[key]]"
   ]
  },
  {
   "cell_type": "code",
   "execution_count": 87,
   "metadata": {},
   "outputs": [
    {
     "name": "stdout",
     "output_type": "stream",
     "text": [
      "    death-rate  incident-rate  incidents  killed states\n",
      "0           34            174       1289     256     AK\n",
      "1           35            105       5123    1742     AL\n",
      "2           24             88       2651     730     AR\n",
      "3           14             31       2178    1001     AZ\n",
      "4           13             38      15172    5212     CA\n",
      "5           13             54       2966     731     CO\n",
      "6            8             80       2904     322     CT\n",
      "7           62            444       3016     422     DC\n",
      "8           21            166       1577     206     DE\n",
      "9           17             69      14198    3620     FL\n",
      "10          22             82       8502    2323     GA\n",
      "11           4             19        271      62     HI\n",
      "12           8             76       2402     263     IA\n",
      "13           9             36        611     152     ID\n",
      "14          25            129      16696    3230     IL\n",
      "15          22             83       5518    1503     IN\n",
      "16          17             68       1993     498     KS\n",
      "17          22             88       3943     985     KY\n",
      "18          43            163       7656    2042     LA\n",
      "19           6             82       5612     450     MA\n",
      "20          26             90       5423    1607     MD\n",
      "21           7             63        850     104     ME\n",
      "22          14             54       5392    1457     MI\n",
      "23           7             37       2088     432     MN\n",
      "24          32            102       6257    1999     MO\n",
      "25          35            111       3327    1068     MS\n",
      "26          14             57        598     149     MT\n",
      "27          20             81       8264    2112     NC\n",
      "28           8             72        543      66     ND\n",
      "29          11             81       1542     214     NE\n",
      "30           6             68        918      87     NH\n",
      "31          12             57       5150    1099     NJ\n",
      "32          21             74       1563     453     NM\n",
      "33          25             63       1841     738     NV\n",
      "34           8             47       9360    1623     NY\n",
      "35          20             82       9644    2359     OH\n",
      "36          22             83       3247     883     OK\n",
      "37          10             53       2148     415     OR\n",
      "38          17             65       8414    2246     PA\n",
      "39           5             79        844      57     RI\n",
      "40          30            133       6568    1510     SC\n",
      "41           9             60        519      83     SD\n",
      "42          25            109       7242    1712     TN\n",
      "43          17             46      12891    4712     TX\n",
      "44           8             33       1016     268     UT\n",
      "45          16             67       5651    1384     VA\n",
      "46           8             72        453      53     VT\n",
      "47          10             44       3231     791     WA\n",
      "48          14             76       4411     816     WI\n",
      "49          16             81       1494     308     WV\n",
      "50          10             82        481      63     WY\n"
     ]
    }
   ],
   "source": [
    "list_states = []\n",
    "list_killed = []\n",
    "list_incidents = []\n",
    "list_d_rate = []\n",
    "list_i_rate = []\n",
    "\n",
    "# make a dataframe for the dictionary\n",
    "for key in temporary:\n",
    "    list_states.append(key)\n",
    "    list_killed.append(temporary[key][0])\n",
    "    list_incidents.append(temporary[key][1])\n",
    "    list_d_rate.append(temporary[key][2])\n",
    "    list_i_rate.append(temporary[key][3])\n",
    "    \n",
    "d = {'states': list_states, 'killed': list_killed, 'incidents': list_incidents, 'death-rate': list_d_rate, 'incident-rate': list_i_rate}\n",
    "df = pd.DataFrame(data=d)\n",
    "print(df)\n"
   ]
  },
  {
   "cell_type": "code",
   "execution_count": 88,
   "metadata": {},
   "outputs": [],
   "source": [
    "import plotly.plotly as py\n",
    "import numpy as np\n",
    "import plotly.tools as tls\n",
    "\n",
    "tls.set_credentials_file(username=\"ElishaNieuwburg\", api_key=\"61kGTvRZ2BoIejY99Nbo\")"
   ]
  },
  {
   "cell_type": "code",
   "execution_count": 112,
   "metadata": {},
   "outputs": [],
   "source": [
    "# different color scales for extra clarity when reading the map\n",
    "scl = [[0.0, 'rgb(242,240,247)'],[0.2, 'rgb(168, 168, 226)'],[1.0, 'rgb(0,0,102)']]\n",
    "d_rate_scl = [[0.0, 'rgb(224,243,248)'], [1.0, 'rgb(165,0,38)']]\n",
    "i_rate_scl = [[0.0, 'rgb(224,243,248)'], [0.5, 'rgb(165,0,38)'], [1.0, 'rgb(0,0,102)']]"
   ]
  },
  {
   "cell_type": "code",
   "execution_count": 113,
   "metadata": {},
   "outputs": [],
   "source": [
    "# different maps for different data\n",
    "d_rate_data = [dict(type='choropleth',colorscale = d_rate_scl, autocolorscale=False, locations=df['states'], z=df['death-rate'], locationmode=\"USA-states\", marker = dict(\n",
    "            line = dict (\n",
    "                color = 'rgb(255,255,255)',\n",
    "                width = 2\n",
    "            ) ) )]\n",
    "\n",
    "i_rate_data = [dict(type='choropleth',colorscale = i_rate_scl, autocolorscale=False, locations=df['states'], z=df['incident-rate'], locationmode=\"USA-states\", marker = dict(\n",
    "            line = dict (\n",
    "                color = 'rgb(255,255,255)',\n",
    "                width = 2\n",
    "            ) ) )]\n",
    "\n",
    "data = [dict(type='choropleth', colorscale = scl, autocolorscale=False, locations=df['states'], z=df['killed'], locationmode=\"USA-states\", marker = dict(\n",
    "            line = dict (\n",
    "                color = 'rgb(255,255,255)',\n",
    "                width = 2\n",
    "            ) ) )]"
   ]
  },
  {
   "cell_type": "code",
   "execution_count": 117,
   "metadata": {},
   "outputs": [],
   "source": [
    "# different titel per map\n",
    "layout_death = dict(title='Death Rate per State', geo = dict(scope='usa', projection=dict(type='albers usa'), showlakes = True, lakecolor = 'rgb(255,255,255)',),)\n",
    "\n",
    "layout_incidents = dict(title='Incident Rate per State', geo = dict(scope='usa', projection=dict(type='albers usa'), showlakes = True, lakecolor = 'rgb(255,255,255)',),)\n",
    "\n",
    "layout = dict(title='Killed per State', geo = dict(scope='usa', projection=dict(type='albers usa'), showlakes = True, lakecolor = 'rgb(255,255,255)',),)"
   ]
  },
  {
   "cell_type": "code",
   "execution_count": 120,
   "metadata": {},
   "outputs": [
    {
     "name": "stdout",
     "output_type": "stream",
     "text": [
      "High five! You successfully sent some data to your account on plotly. View your plot in your browser at https://plot.ly/~ElishaNieuwburg/0 or inside your plot.ly account where it is named 'killed per state map'\n"
     ]
    },
    {
     "data": {
      "text/html": [
       "<iframe id=\"igraph\" scrolling=\"no\" style=\"border:none;\" seamless=\"seamless\" src=\"https://plot.ly/~ElishaNieuwburg/0.embed\" height=\"525px\" width=\"100%\"></iframe>"
      ],
      "text/plain": [
       "<plotly.tools.PlotlyDisplay object>"
      ]
     },
     "execution_count": 120,
     "metadata": {},
     "output_type": "execute_result"
    }
   ],
   "source": [
    "fig = dict(data=data, layout=layout)\n",
    "\n",
    "py.iplot(fig, filename=\"killed per state map\")"
   ]
  },
  {
   "cell_type": "code",
   "execution_count": 118,
   "metadata": {},
   "outputs": [
    {
     "data": {
      "text/html": [
       "<iframe id=\"igraph\" scrolling=\"no\" style=\"border:none;\" seamless=\"seamless\" src=\"https://plot.ly/~ElishaNieuwburg/2.embed\" height=\"525px\" width=\"100%\"></iframe>"
      ],
      "text/plain": [
       "<plotly.tools.PlotlyDisplay object>"
      ]
     },
     "execution_count": 118,
     "metadata": {},
     "output_type": "execute_result"
    }
   ],
   "source": [
    "fig2 = dict(data=d_rate_data, layout=layout_death)\n",
    "\n",
    "py.iplot(fig2, filename=\"rate per state map\")"
   ]
  },
  {
   "cell_type": "code",
   "execution_count": 119,
   "metadata": {},
   "outputs": [
    {
     "data": {
      "text/html": [
       "<iframe id=\"igraph\" scrolling=\"no\" style=\"border:none;\" seamless=\"seamless\" src=\"https://plot.ly/~ElishaNieuwburg/9.embed\" height=\"525px\" width=\"100%\"></iframe>"
      ],
      "text/plain": [
       "<plotly.tools.PlotlyDisplay object>"
      ]
     },
     "execution_count": 119,
     "metadata": {},
     "output_type": "execute_result"
    }
   ],
   "source": [
    "fig2 = dict(data=i_rate_data, layout=layout_incidents)\n",
    "\n",
    "py.iplot(fig2, filename=\"incident rate per state map\")"
   ]
  }
 ],
 "metadata": {
  "kernelspec": {
   "display_name": "Python 3",
   "language": "python",
   "name": "python3"
  },
  "language_info": {
   "codemirror_mode": {
    "name": "ipython",
    "version": 3
   },
   "file_extension": ".py",
   "mimetype": "text/x-python",
   "name": "python",
   "nbconvert_exporter": "python",
   "pygments_lexer": "ipython3",
   "version": "3.6.3"
  }
 },
 "nbformat": 4,
 "nbformat_minor": 2
}
