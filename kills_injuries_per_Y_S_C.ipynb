{
 "cells": [
  {
   "cell_type": "code",
   "execution_count": null,
   "metadata": {},
   "outputs": [],
   "source": [
    "\n",
    "\n"
   ]
  },
  {
   "cell_type": "code",
   "execution_count": 12,
   "metadata": {},
   "outputs": [],
   "source": [
    "import pandas as pd\n",
    "clean = pd.read_csv(\"data_clean.csv\")\n",
    "\n",
    "date = clean[\"date\"]\n",
    "n_killed = clean[\"n_killed\"]\n",
    "n_injured = clean[\"n_injured\"]\n",
    "city = clean[\"city_or_county\"]\n",
    "state = clean[\"state\"]\n",
    "killcity = {}\n",
    "killstate = {}\n",
    "injuredcity = {}\n",
    "injuredstate = {}\n",
    "\n",
    "\n",
    "killed2014 = 0\n",
    "killed2015 = 0\n",
    "killed2016 = 0\n",
    "killed2017 = 0\n",
    "killed2018 = 0 \n",
    "injured2014 = 0\n",
    "injured2015 = 0\n",
    "injured2016 = 0\n",
    "injured2017 = 0\n",
    "injured2018 = 0\n",
    "\n",
    "\n",
    "kills_p_m = {}\n",
    "inj_p_m = {}\n",
    "for i in range(len(clean)):\n",
    "    if int(date[i][2:4]+date[i][5:7]) in kills_p_m:\n",
    "        kills_p_m[int(date[i][2:4]+date[i][5:7])] += n_killed[i]\n",
    "    else:\n",
    "        kills_p_m[int(date[i][2:4]+date[i][5:7])] = n_killed[i]\n",
    "    if int(date[i][2:4]+date[i][5:7]) in inj_p_m:\n",
    "        inj_p_m[int(date[i][2:4]+date[i][5:7])] += n_injured[i]\n",
    "    else:\n",
    "        inj_p_m[int(date[i][2:4]+date[i][5:7])] = n_injured[i]\n",
    "#     if city[i] not in killcity:\n",
    "#         killcity[city[i]] = 0\n",
    "#     if city[i] in killcity:\n",
    "#         killcity[city[i]] += n_killed[i]\n",
    "#     if state[i] not in killstate:\n",
    "#         killstate[state[i]] = 0\n",
    "#     if state[i] in killstate:\n",
    "#         killstate[state[i]] += n_killed[i]\n",
    "#     if city[i] not in injuredcity:\n",
    "#         injuredcity[city[i]] = 0\n",
    "#     if city[i] in injuredcity:\n",
    "#         injuredcity[city[i]] += n_injured[i]\n",
    "#     if state[i] not in injuredstate:\n",
    "#         injuredstate[state[i]] = 0\n",
    "#     if state[i] in injuredstate:\n",
    "#         injuredstate[state[i]] += n_injured[i]\n",
    "    if \"2014\" in date[i]:\n",
    "        injured2014 += n_injured[i]\n",
    "    if \"2015\" in date[i]:\n",
    "        injured2015 += n_injured[i]\n",
    "    if \"2016\" in date[i]:\n",
    "        injured2016 += n_injured[i]    \n",
    "    if \"2017\" in date[i]:\n",
    "        injured2017 += n_injured[i]\n",
    "#     if \"2018\" in date[i]:\n",
    "#         injured2018 += n_injured[i]  \n",
    "    if \"2014\" in date[i]:\n",
    "        killed2014 += n_killed[i]\n",
    "    if \"2015\" in date[i]:\n",
    "        killed2015 += n_killed[i]\n",
    "    if \"2016\" in date[i]:\n",
    "        killed2016 += n_killed[i]    \n",
    "    if \"2017\" in date[i]:\n",
    "        killed2017 += n_killed[i]\n",
    "#     if \"2018\" in date[i]:\n",
    "#         killed2018 += n_killed[i]    \n",
    "        \n",
    "\n",
    "\n",
    "\n"
   ]
  },
  {
   "cell_type": "code",
   "execution_count": 13,
   "metadata": {},
   "outputs": [
    {
     "name": "stdout",
     "output_type": "stream",
     "text": [
      "{1401: 1070, 1402: 845, 1403: 1007, 1404: 979, 1405: 1099, 1406: 1127, 1407: 1162, 1408: 1140, 1409: 1013, 1410: 1012, 1411: 1017, 1412: 1086, 1501: 1123, 1502: 870, 1503: 1090, 1504: 995, 1505: 1164, 1506: 1092, 1507: 1293, 1508: 1199, 1509: 1247, 1510: 1092, 1511: 1133, 1512: 1186, 1601: 1139, 1602: 984, 1603: 1181, 1604: 1152, 1605: 1158, 1606: 1276, 1607: 1399, 1608: 1429, 1609: 1286, 1610: 1356, 1611: 1368, 1612: 1338, 1701: 1356, 1702: 1141, 1703: 1220, 1704: 1231, 1705: 1389, 1706: 1366, 1707: 1391, 1708: 1324, 1709: 1196, 1710: 1305, 1711: 1304, 1712: 1288, 1801: 1324, 1802: 1091, 1803: 1118}\n",
      "{1401: 1875, 1402: 1223, 1403: 1551, 1404: 1782, 1405: 2100, 1406: 2069, 1407: 2423, 1408: 2298, 1409: 2059, 1410: 1884, 1411: 1832, 1412: 1906, 1501: 1808, 1502: 1378, 1503: 2093, 1504: 2149, 1505: 2677, 1506: 2414, 1507: 2669, 1508: 2664, 1509: 2426, 1510: 2257, 1511: 2148, 1512: 2284, 1601: 2250, 1602: 1864, 1603: 2430, 1604: 2276, 1605: 2634, 1606: 2504, 1607: 3038, 1608: 3032, 1609: 2598, 1610: 2792, 1611: 2642, 1612: 2520, 1701: 2604, 1702: 2197, 1703: 2233, 1704: 2648, 1705: 2732, 1706: 2679, 1707: 3018, 1708: 2731, 1709: 2573, 1710: 2742, 1711: 2377, 1712: 2169, 1801: 2365, 1802: 1713, 1803: 2093}\n"
     ]
    }
   ],
   "source": [
    "print(kills_p_m)\n",
    "print(inj_p_m)"
   ]
  },
  {
   "cell_type": "code",
   "execution_count": 18,
   "metadata": {},
   "outputs": [
    {
     "name": "stdout",
     "output_type": "stream",
     "text": [
      "1.52524947091 -93.6654335394\n",
      "murders in 2018 with 3 months data + 9 months least squares method = 15611.6125273\n",
      "injuries in 2018 with 3 months data + 9 months least squares method = 30146.8704888\n"
     ]
    }
   ],
   "source": [
    "import numpy as np\n",
    "\n",
    "import pandas as pd\n",
    "from pandas import Series,DataFrame\n",
    "from bokeh.layouts import gridplot, row, column\n",
    "\n",
    "from bokeh.io import push_notebook, show, output_notebook\n",
    "from bokeh.plotting import figure\n",
    "\n",
    "from sklearn.datasets import load_boston\n",
    "import sklearn.model_selection\n",
    "# Import for Linear Regression\n",
    "import sklearn\n",
    "from sklearn.linear_model import LinearRegression\n",
    "\n",
    "\n",
    "\n",
    "\n",
    "# Now get out m and b values for our best fit line\n",
    "\n",
    "X = np.vstack(list(inj_p_m.keys()))\n",
    "X = np.column_stack((X, np.ones(X.shape[0])))\n",
    "\n",
    "a, b = np.linalg.lstsq(X, list(inj_p_m.values()))[0]\n",
    "print(a, b)\n",
    "\n",
    "\n",
    "lreg = LinearRegression()\n",
    "# X = np.vstack(list(kills_p_m.keys()))\n",
    "# X = np.column_stack((X, np.ones(X.shape[0])))\n",
    "\n",
    "# a, b = np.linalg.lstsq(X, list(kills_p_m.values()))[0]\n",
    "# print(a, b)\n",
    "\n",
    "r = np.array(list(kills_p_m.values()))\n",
    "x = np.array(list(kills_p_m.keys()))\n",
    " \n",
    "# y = a * x + b\n",
    "\n",
    "\n",
    "# Grab the output and set as X and Y test and train data sets!\n",
    "X_train, X_test, Y_train, Y_test = sklearn.model_selection.train_test_split(X,list(kills_p_m.values()))\n",
    "\n",
    "murders2018 = 3533\n",
    "inj2018 = 6171\n",
    "\n",
    "for i in range(1804,1813):\n",
    "    y = a * i + b\n",
    "    inj2018 += y\n",
    "    \n",
    "print(\"murders in 2018 with 3 months data + 9 months least squares method = 15611.6125273\")\n",
    "print(\"injuries in 2018 with 3 months data + 9 months least squares method = 30146.8704888\")        \n"
   ]
  },
  {
   "cell_type": "code",
   "execution_count": 32,
   "metadata": {},
   "outputs": [
    {
     "data": {
      "text/plain": [
       "LinearRegression(copy_X=True, fit_intercept=True, n_jobs=1, normalize=False)"
      ]
     },
     "execution_count": 32,
     "metadata": {},
     "output_type": "execute_result"
    }
   ],
   "source": [
    "# Create our regression object\n",
    "lreg = LinearRegression()\n",
    "\n",
    "# Once again do a linear regression, except only on the training sets this time\n",
    "lreg.fit(X_train,Y_train)"
   ]
  },
  {
   "cell_type": "code",
   "execution_count": 38,
   "metadata": {},
   "outputs": [
    {
     "name": "stdout",
     "output_type": "stream",
     "text": [
      "[ 1133.376211    1067.77390754  1194.43182017  1191.83370914  1127.53046119\n",
      "  1128.17998895  1126.88093343  1322.38878831  1068.4234353   1129.47904446\n",
      "  1256.78648485  1260.68365139  1258.73506812  1323.03831607  1062.57768548\n",
      "  1261.33317914  1130.77809997  1065.17579651  1067.12437978  1198.97851447\n",
      "  1263.28176242  1258.08554036  1065.82532427  1131.42762773  1198.32898671\n",
      "  1132.07715549  1196.38040344  1066.47485202  1261.9827069   1197.0299312\n",
      "  1063.876741    1061.92815773  1259.38459587  1132.72668325  1257.4360126\n",
      "  1193.78229241  1262.63223466  1128.8295167 ]\n",
      "[ 1192.4832369   1064.52626875  1130.12857222  1197.67945895  1260.03412363\n",
      "  1134.02573876  1195.73087568  1193.13276465  1321.73926055  1263.93129017\n",
      "  1063.22721324  1195.08134792  1069.07296305]\n"
     ]
    }
   ],
   "source": [
    "# Predictions on training and testing sets\n",
    "pred_train = lreg.predict(X_train)\n",
    "pred_test = lreg.predict(X_test)\n",
    "\n",
    "print(pred_train)\n",
    "print(pred_test)"
   ]
  },
  {
   "cell_type": "code",
   "execution_count": 34,
   "metadata": {},
   "outputs": [
    {
     "name": "stdout",
     "output_type": "stream",
     "text": [
      "Fit a model X_train, and calculate MSE with Y_train: 13082.68\n",
      "Fit a model X_train, and calculate MSE with X_test and Y_test: 10549.91\n"
     ]
    }
   ],
   "source": [
    "from sklearn.metrics import mean_squared_error\n",
    "mse = mean_squared_error(r, y)\n",
    "\n",
    "print(\"Fit a model X_train, and calculate MSE with Y_train: {0:.2f}\".format(mean_squared_error(Y_train, pred_train)))\n",
    "    \n",
    "print(\"Fit a model X_train, and calculate MSE with X_test and Y_test: {0:.2f}\".format(mean_squared_error(Y_test, pred_test)))"
   ]
  },
  {
   "cell_type": "code",
   "execution_count": 2,
   "metadata": {},
   "outputs": [
    {
     "name": "stdout",
     "output_type": "stream",
     "text": [
      "{}\n",
      "0\n",
      "murder per day 2014-2018: 34.402739726 36.9424657534 41.1639344262 42.495890411 39.2555555556\n",
      "injuries per day 2014-2018: 63.0191780822 73.8821917808 83.5519125683 84.1178082192 68.5666666667\n",
      "murders per year 2014-2018: 2014 = 12557, 2015 = 13484, 2016 = 15066, 2017 = 15511, 2018 = 3533\n",
      "injuries per year 2014-2018: 2014 = 23002, 2015 = 26967, 2016 = 30580, 2017 = 30703, 2018 = 6171\n",
      "highest number of murders was in the city/county Chicago (2098)\n",
      "highest number of murders was in the state of California (5516)\n",
      "highest number of injuries was in the city/county Chicago (10356)\n",
      "highest number of injuries was in the state Illinois (13436)\n"
     ]
    }
   ],
   "source": [
    "# print(killed2014, killed2015, killed2016, killed2017, (killed2018/90)*365)\n",
    "# print(injured2014/365, injured2015/365, injured2016/366, injured2017/365, injured2018/90)\n",
    "# print(killcity)\n",
    "print(killstate)\n",
    "# print(injuredcity)\n",
    "# print(injuredstate)\n",
    "print(len(list(killcity.keys())))\n",
    "print(\"murder per day 2014-2018: 34.402739726 36.9424657534 41.1639344262 42.495890411 39.2555555556\")\n",
    "print(\"injuries per day 2014-2018: 63.0191780822 73.8821917808 83.5519125683 84.1178082192 68.5666666667\")\n",
    "print(\"murders per year 2014-2018: 2014 = 12557, 2015 = 13484, 2016 = 15066, 2017 = 15511, 2018 = 3533\")\n",
    "print(\"injuries per year 2014-2018: 2014 = 23002, 2015 = 26967, 2016 = 30580, 2017 = 30703, 2018 = 6171\")\n",
    "print(\"highest number of murders was in the city/county Chicago (2098)\")\n",
    "print(\"highest number of murders was in the state of California (5516)\")\n",
    "print(\"highest number of injuries was in the city/county Chicago (10356)\")\n",
    "print(\"highest number of injuries was in the state Illinois (13436)\")"
   ]
  },
  {
   "cell_type": "code",
   "execution_count": 87,
   "metadata": {},
   "outputs": [],
   "source": [
    "from pygeocoder import Geocoder\n",
    "import pandas as pd\n",
    "import numpy as np\n",
    "# print(list(killcity.keys()))\n",
    "longlatkillcity = []\n",
    "longlatkillcityrejects =[]\n",
    "for i in list(killcity.keys()):\n",
    "    try:\n",
    "        print(Geocoder.geocode(str(i)).coordinates)\n",
    "        longlatkillcity.append(Geocoder.geocode(str(i)).coordinates)\n",
    "    except:\n",
    "        longlatkillcityrejects.append(i)\n",
    "    \n",
    "# results.coordinates\n",
    "\n",
    "# adres = data[\"address\"]\n",
    "# long  = data[\"longitude\"]\n",
    "# lat = data[\"latitude\"]\n",
    "# count = 0\n",
    "# for i in range(len(data)):\n",
    "#     if pd.isna(adres[i]):\n",
    "#         count+=1\n",
    "        \n",
    "# print(count)\n",
    "\n",
    "# results = Geocoder.reverse_geocode(lat[2], long[2])\n",
    "# print(results.street_address)"
   ]
  },
  {
   "cell_type": "code",
   "execution_count": 16,
   "metadata": {},
   "outputs": [],
   "source": [
    "# print(longlatkillcity)\n",
    "# print(longlatkillcityrejects)\n",
    "murderyears = []\n",
    "injuredyears = []\n",
    "murderyears.extend((killed2014, killed2015, killed2016, killed2017, 15612))\n",
    "injuredyears.extend((injured2014, injured2015, injured2016, injured2017, 30147))"
   ]
  },
  {
   "cell_type": "code",
   "execution_count": 17,
   "metadata": {},
   "outputs": [],
   "source": [
    "from bokeh.transform import factor_cmap\n",
    "from bokeh.io import show, output_file\n",
    "from bokeh.models import ColumnDataSource\n",
    "from bokeh.palettes import Spectral6\n",
    "from bokeh.plotting import figure\n",
    "from bokeh.models import FactorRange\n",
    "from bokeh.plotting import figure, output_file, show, ColumnDataSource\n",
    "from bokeh.models import HoverTool\n",
    "\n",
    "output_file(\"murders_injuries_per_year.html\")\n",
    "\n",
    "years = ['2014', '2015', '2016', '2017', '2018']\n",
    "\n",
    "data = {'years' : [2014,2015,2016,2017,2018], \n",
    "        'murders' : murderyears,\n",
    "        'injuries' : injuredyears}\n",
    "\n",
    "\n",
    "x = [(\"2014\", \"Murders\"), (\"2014\", \"Injuries\"), (\"2015\", \"Murders\"), (\"2015\", \"Injuries\"), (\"2016\", \"Murders\"), (\"2016\", \"Injuries\"), (\"2017\", \"Murders\"), (\"2017\", \"Injuries\"), (\"2018\", \"Murders\"), (\"2018\",\"Injuries\")]\n",
    "counts = sum(zip(data['murders'], data['injuries']), ()) # like an hstack\n",
    "\n",
    "murinj =[]\n",
    "\n",
    "for g in range(5):\n",
    "    murinj.append(murderyears[g])\n",
    "    murinj.append(injuredyears[g])\n",
    "\n",
    "\n",
    "source = ColumnDataSource(data=dict(\n",
    "    x=x, \n",
    "    counts=counts,\n",
    "    value = murinj,\n",
    "))\n",
    "\n",
    "hover = HoverTool(tooltips=[\n",
    "    (\"value\", \"@value\"),\n",
    "])\n",
    "\n",
    "p = figure(x_range=FactorRange(*x), plot_height=250, title=\"Murders/Injuries per Year\", tools=[hover])\n",
    "\n",
    "p.vbar(x='x', top='counts', width=0.9, source=source,\n",
    "       fill_color=factor_cmap('x', palette=[\"crimson\", \"darkorange\"], factors=[\"Murders\", \"Injuries\"], start=1, end=2))\n",
    "\n",
    "p.y_range.start = 0\n",
    "p.x_range.range_padding = 0.1\n",
    "p.xaxis.major_label_orientation = 1\n",
    "p.xgrid.grid_line_color = None\n",
    "\n",
    "show(p)"
   ]
  },
  {
   "cell_type": "code",
   "execution_count": 10,
   "metadata": {},
   "outputs": [],
   "source": [
    "import numpy as np\n",
    "\n",
    "import pandas as pd\n",
    "from pandas import Series,DataFrame\n",
    "from bokeh.layouts import gridplot, row, column\n",
    "\n",
    "from bokeh.io import push_notebook, show, output_notebook\n",
    "from bokeh.plotting import figure\n",
    "\n",
    "kill_df = DataFrame(clean)\n",
    "X = \n",
    "Y = kill_df.n_killed"
   ]
  },
  {
   "cell_type": "code",
   "execution_count": 11,
   "metadata": {},
   "outputs": [
    {
     "name": "stderr",
     "output_type": "stream",
     "text": [
      "/home/saflaki/.local/lib/python3.5/site-packages/ipykernel_launcher.py:6: FutureWarning: `rcond` parameter will change to the default of machine precision times ``max(M, N)`` where M and N are the input matrix dimensions.\n",
      "To use the future default and silence this warning we advise to pass `rcond=None`, to keep using the old, explicitly pass `rcond=-1`.\n",
      "  \n"
     ]
    },
    {
     "ename": "ValueError",
     "evalue": "could not convert string to float: '2014-01-01'",
     "output_type": "error",
     "traceback": [
      "\u001b[0;31m---------------------------------------------------------------------------\u001b[0m",
      "\u001b[0;31mValueError\u001b[0m                                Traceback (most recent call last)",
      "\u001b[0;32m<ipython-input-11-ff5a0619c864>\u001b[0m in \u001b[0;36m<module>\u001b[0;34m()\u001b[0m\n\u001b[1;32m      4\u001b[0m \u001b[0;34m\u001b[0m\u001b[0m\n\u001b[1;32m      5\u001b[0m \u001b[0;31m# Now get out m and b values for our best fit line\u001b[0m\u001b[0;34m\u001b[0m\u001b[0;34m\u001b[0m\u001b[0m\n\u001b[0;32m----> 6\u001b[0;31m \u001b[0ma\u001b[0m\u001b[0;34m,\u001b[0m \u001b[0mb\u001b[0m \u001b[0;34m=\u001b[0m \u001b[0mnp\u001b[0m\u001b[0;34m.\u001b[0m\u001b[0mlinalg\u001b[0m\u001b[0;34m.\u001b[0m\u001b[0mlstsq\u001b[0m\u001b[0;34m(\u001b[0m\u001b[0mX\u001b[0m\u001b[0;34m,\u001b[0m \u001b[0mY\u001b[0m\u001b[0;34m)\u001b[0m\u001b[0;34m[\u001b[0m\u001b[0;36m0\u001b[0m\u001b[0;34m]\u001b[0m\u001b[0;34m\u001b[0m\u001b[0m\n\u001b[0m\u001b[1;32m      7\u001b[0m \u001b[0mprint\u001b[0m\u001b[0;34m(\u001b[0m\u001b[0ma\u001b[0m\u001b[0;34m,\u001b[0m \u001b[0mb\u001b[0m\u001b[0;34m)\u001b[0m\u001b[0;34m\u001b[0m\u001b[0m\n",
      "\u001b[0;32m~/.local/lib/python3.5/site-packages/numpy/linalg/linalg.py\u001b[0m in \u001b[0;36mlstsq\u001b[0;34m(a, b, rcond)\u001b[0m\n\u001b[1;32m   2004\u001b[0m     \u001b[0mbstar\u001b[0m \u001b[0;34m=\u001b[0m \u001b[0mzeros\u001b[0m\u001b[0;34m(\u001b[0m\u001b[0;34m(\u001b[0m\u001b[0mldb\u001b[0m\u001b[0;34m,\u001b[0m \u001b[0mn_rhs\u001b[0m\u001b[0;34m)\u001b[0m\u001b[0;34m,\u001b[0m \u001b[0mt\u001b[0m\u001b[0;34m)\u001b[0m\u001b[0;34m\u001b[0m\u001b[0m\n\u001b[1;32m   2005\u001b[0m     \u001b[0mbstar\u001b[0m\u001b[0;34m[\u001b[0m\u001b[0;34m:\u001b[0m\u001b[0mm\u001b[0m\u001b[0;34m,\u001b[0m \u001b[0;34m:\u001b[0m\u001b[0mn_rhs\u001b[0m\u001b[0;34m]\u001b[0m \u001b[0;34m=\u001b[0m \u001b[0mb\u001b[0m\u001b[0;34m\u001b[0m\u001b[0m\n\u001b[0;32m-> 2006\u001b[0;31m     \u001b[0ma\u001b[0m\u001b[0;34m,\u001b[0m \u001b[0mbstar\u001b[0m \u001b[0;34m=\u001b[0m \u001b[0m_fastCopyAndTranspose\u001b[0m\u001b[0;34m(\u001b[0m\u001b[0mt\u001b[0m\u001b[0;34m,\u001b[0m \u001b[0ma\u001b[0m\u001b[0;34m,\u001b[0m \u001b[0mbstar\u001b[0m\u001b[0;34m)\u001b[0m\u001b[0;34m\u001b[0m\u001b[0m\n\u001b[0m\u001b[1;32m   2007\u001b[0m     \u001b[0ma\u001b[0m\u001b[0;34m,\u001b[0m \u001b[0mbstar\u001b[0m \u001b[0;34m=\u001b[0m \u001b[0m_to_native_byte_order\u001b[0m\u001b[0;34m(\u001b[0m\u001b[0ma\u001b[0m\u001b[0;34m,\u001b[0m \u001b[0mbstar\u001b[0m\u001b[0;34m)\u001b[0m\u001b[0;34m\u001b[0m\u001b[0m\n\u001b[1;32m   2008\u001b[0m     \u001b[0ms\u001b[0m \u001b[0;34m=\u001b[0m \u001b[0mzeros\u001b[0m\u001b[0;34m(\u001b[0m\u001b[0;34m(\u001b[0m\u001b[0mmin\u001b[0m\u001b[0;34m(\u001b[0m\u001b[0mm\u001b[0m\u001b[0;34m,\u001b[0m \u001b[0mn\u001b[0m\u001b[0;34m)\u001b[0m\u001b[0;34m,\u001b[0m\u001b[0;34m)\u001b[0m\u001b[0;34m,\u001b[0m \u001b[0mreal_t\u001b[0m\u001b[0;34m)\u001b[0m\u001b[0;34m\u001b[0m\u001b[0m\n",
      "\u001b[0;32m~/.local/lib/python3.5/site-packages/numpy/linalg/linalg.py\u001b[0m in \u001b[0;36m_fastCopyAndTranspose\u001b[0;34m(type, *arrays)\u001b[0m\n\u001b[1;32m    183\u001b[0m             \u001b[0mcast_arrays\u001b[0m \u001b[0;34m=\u001b[0m \u001b[0mcast_arrays\u001b[0m \u001b[0;34m+\u001b[0m \u001b[0;34m(\u001b[0m\u001b[0m_fastCT\u001b[0m\u001b[0;34m(\u001b[0m\u001b[0ma\u001b[0m\u001b[0;34m)\u001b[0m\u001b[0;34m,\u001b[0m\u001b[0;34m)\u001b[0m\u001b[0;34m\u001b[0m\u001b[0m\n\u001b[1;32m    184\u001b[0m         \u001b[0;32melse\u001b[0m\u001b[0;34m:\u001b[0m\u001b[0;34m\u001b[0m\u001b[0m\n\u001b[0;32m--> 185\u001b[0;31m             \u001b[0mcast_arrays\u001b[0m \u001b[0;34m=\u001b[0m \u001b[0mcast_arrays\u001b[0m \u001b[0;34m+\u001b[0m \u001b[0;34m(\u001b[0m\u001b[0m_fastCT\u001b[0m\u001b[0;34m(\u001b[0m\u001b[0ma\u001b[0m\u001b[0;34m.\u001b[0m\u001b[0mastype\u001b[0m\u001b[0;34m(\u001b[0m\u001b[0mtype\u001b[0m\u001b[0;34m)\u001b[0m\u001b[0;34m)\u001b[0m\u001b[0;34m,\u001b[0m\u001b[0;34m)\u001b[0m\u001b[0;34m\u001b[0m\u001b[0m\n\u001b[0m\u001b[1;32m    186\u001b[0m     \u001b[0;32mif\u001b[0m \u001b[0mlen\u001b[0m\u001b[0;34m(\u001b[0m\u001b[0mcast_arrays\u001b[0m\u001b[0;34m)\u001b[0m \u001b[0;34m==\u001b[0m \u001b[0;36m1\u001b[0m\u001b[0;34m:\u001b[0m\u001b[0;34m\u001b[0m\u001b[0m\n\u001b[1;32m    187\u001b[0m         \u001b[0;32mreturn\u001b[0m \u001b[0mcast_arrays\u001b[0m\u001b[0;34m[\u001b[0m\u001b[0;36m0\u001b[0m\u001b[0;34m]\u001b[0m\u001b[0;34m\u001b[0m\u001b[0m\n",
      "\u001b[0;31mValueError\u001b[0m: could not convert string to float: '2014-01-01'"
     ]
    }
   ],
   "source": [
    "import sklearn.model_selection\n",
    "# Grab the output and set as X and Y test and train data sets!\n",
    "X_train, X_test, Y_train, Y_test = sklearn.model_selection.train_test_split(X,boston_df.Price)\n"
   ]
  }
 ],
 "metadata": {
  "kernelspec": {
   "display_name": "Python 3",
   "language": "python",
   "name": "python3"
  },
  "language_info": {
   "codemirror_mode": {
    "name": "ipython",
    "version": 3
   },
   "file_extension": ".py",
   "mimetype": "text/x-python",
   "name": "python",
   "nbconvert_exporter": "python",
   "pygments_lexer": "ipython3",
   "version": "3.6.3"
  }
 },
 "nbformat": 4,
 "nbformat_minor": 2
}
