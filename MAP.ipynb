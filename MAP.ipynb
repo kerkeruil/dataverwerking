{
 "cells": [
  {
   "cell_type": "code",
   "execution_count": 5,
   "metadata": {},
   "outputs": [],
   "source": [
    "import pandas as pd"
   ]
  },
  {
   "cell_type": "code",
   "execution_count": 6,
   "metadata": {},
   "outputs": [
    {
     "name": "stdout",
     "output_type": "stream",
     "text": [
      "{'Michigan': 1579, 'New Jersey': 1156, 'New York': 1690, 'Missouri': 2127, 'Georgia': 2451, 'Kentucky': 1062, 'Virginia': 1456, 'Pennsylvania': 2382, 'South Carolina': 1599, 'Maryland': 1686, 'Delaware': 214, 'Colorado': 792, 'Alabama': 1877, 'Louisiana': 2171, 'Utah': 278, 'Indiana': 1599, 'Illinois': 3395, 'Texas': 5022, 'Nebraska': 225, 'Massachusetts': 472, 'Florida': 3887, 'Mississippi': 1174, 'Wisconsin': 862, 'Arizona': 1086, 'Hawaii': 63, 'Washington': 845, 'Ohio': 2498, 'Kansas': 536, 'District of Columbia': 447, 'West Virginia': 331, 'New Hampshire': 88, 'Rhode Island': 62, 'North Carolina': 2220, 'California': 5516, 'Oklahoma': 927, 'Connecticut': 339, 'Iowa': 273, 'Alaska': 267, 'Arkansas': 773, 'Tennessee': 1810, 'Nevada': 799, 'Minnesota': 458, 'Idaho': 166, 'Oregon': 446, 'Wyoming': 73, 'Maine': 112, 'North Dakota': 69, 'New Mexico': 490, 'Montana': 154, 'Vermont': 57, 'South Dakota': 90}\n"
     ]
    }
   ],
   "source": [
    "clean = pd.read_csv(\"data_clean.csv\")\n",
    "date = clean[\"date\"]\n",
    "n_killed = clean[\"n_killed\"]\n",
    "n_injured = clean[\"n_injured\"]\n",
    "city = clean[\"city_or_county\"]\n",
    "state = clean[\"state\"]\n",
    "killcity = {}\n",
    "killstate = {}\n",
    "injuredcity = {}\n",
    "injuredstate = {}\n",
    "\n",
    "\n",
    "killed2014 = 0\n",
    "killed2015 = 0\n",
    "killed2016 = 0\n",
    "killed2017 = 0\n",
    "killed2018 = 0 \n",
    "injured2014 = 0\n",
    "injured2015 = 0\n",
    "injured2016 = 0\n",
    "injured2017 = 0\n",
    "injured2018 = 0\n",
    "\n",
    "for i in range(len(clean)):\n",
    "#     if city[i] not in killcity:\n",
    "#         killcity[city[i]] = 0\n",
    "#     if city[i] in killcity:\n",
    "#         killcity[city[i]] += n_killed[i]\n",
    "    if state[i] not in killstate:\n",
    "        killstate[state[i]] = 0\n",
    "    if state[i] in killstate:\n",
    "        killstate[state[i]] += n_killed[i]\n",
    "\n",
    "print(killstate)"
   ]
  },
  {
   "cell_type": "code",
   "execution_count": 7,
   "metadata": {},
   "outputs": [
    {
     "name": "stdout",
     "output_type": "stream",
     "text": [
      "{'AK': 267, 'AL': 1877, 'AR': 773, 'AS': 'American Samoa', 'AZ': 1086, 'CA': 5516, 'CO': 792, 'CT': 339, 'DC': 447, 'DE': 214, 'FL': 3887, 'GA': 2451, 'GU': 'Guam', 'HI': 63, 'IA': 273, 'ID': 166, 'IL': 3395, 'IN': 1599, 'KS': 536, 'KY': 1062, 'LA': 2171, 'MA': 472, 'MD': 1686, 'ME': 112, 'MI': 1579, 'MN': 458, 'MO': 2127, 'MP': 'Northern Mariana Islands', 'MS': 1174, 'MT': 154, 'NA': 'National', 'NC': 2220, 'ND': 69, 'NE': 225, 'NH': 88, 'NJ': 1156, 'NM': 490, 'NV': 799, 'NY': 1690, 'OH': 2498, 'OK': 927, 'OR': 446, 'PA': 2382, 'PR': 'Puerto Rico', 'RI': 62, 'SC': 1599, 'SD': 90, 'TN': 1810, 'TX': 5022, 'UT': 278, 'VA': 1456, 'VI': 'Virgin Islands', 'VT': 57, 'WA': 845, 'WI': 862, 'WV': 331, 'WY': 73}\n"
     ]
    }
   ],
   "source": [
    "states = {\n",
    "        'AK': 'Alaska',\n",
    "        'AL': 'Alabama',\n",
    "        'AR': 'Arkansas',\n",
    "        'AS': 'American Samoa',\n",
    "        'AZ': 'Arizona',\n",
    "        'CA': 'California',\n",
    "        'CO': 'Colorado',\n",
    "        'CT': 'Connecticut',\n",
    "        'DC': 'District of Columbia',\n",
    "        'DE': 'Delaware',\n",
    "        'FL': 'Florida',\n",
    "        'GA': 'Georgia',\n",
    "        'GU': 'Guam',\n",
    "        'HI': 'Hawaii',\n",
    "        'IA': 'Iowa',\n",
    "        'ID': 'Idaho',\n",
    "        'IL': 'Illinois',\n",
    "        'IN': 'Indiana',\n",
    "        'KS': 'Kansas',\n",
    "        'KY': 'Kentucky',\n",
    "        'LA': 'Louisiana',\n",
    "        'MA': 'Massachusetts',\n",
    "        'MD': 'Maryland',\n",
    "        'ME': 'Maine',\n",
    "        'MI': 'Michigan',\n",
    "        'MN': 'Minnesota',\n",
    "        'MO': 'Missouri',\n",
    "        'MP': 'Northern Mariana Islands',\n",
    "        'MS': 'Mississippi',\n",
    "        'MT': 'Montana',\n",
    "        'NA': 'National',\n",
    "        'NC': 'North Carolina',\n",
    "        'ND': 'North Dakota',\n",
    "        'NE': 'Nebraska',\n",
    "        'NH': 'New Hampshire',\n",
    "        'NJ': 'New Jersey',\n",
    "        'NM': 'New Mexico',\n",
    "        'NV': 'Nevada',\n",
    "        'NY': 'New York',\n",
    "        'OH': 'Ohio',\n",
    "        'OK': 'Oklahoma',\n",
    "        'OR': 'Oregon',\n",
    "        'PA': 'Pennsylvania',\n",
    "        'PR': 'Puerto Rico',\n",
    "        'RI': 'Rhode Island',\n",
    "        'SC': 'South Carolina',\n",
    "        'SD': 'South Dakota',\n",
    "        'TN': 'Tennessee',\n",
    "        'TX': 'Texas',\n",
    "        'UT': 'Utah',\n",
    "        'VA': 'Virginia',\n",
    "        'VI': 'Virgin Islands',\n",
    "        'VT': 'Vermont',\n",
    "        'WA': 'Washington',\n",
    "        'WI': 'Wisconsin',\n",
    "        'WV': 'West Virginia',\n",
    "        'WY': 'Wyoming'\n",
    "}\n",
    "\n",
    "for key in states:\n",
    "    for key2 in killstate:\n",
    "        if states[key] == key2:\n",
    "            states[key] = killstate[key2]\n",
    "print(states)\n",
    "\n",
    "del states[\"AS\"]\n",
    "del states[\"GU\"]\n",
    "del states[\"MP\"]\n",
    "del states[\"NA\"]\n",
    "del states[\"PR\"]\n",
    "del states[\"VI\"]\n"
   ]
  },
  {
   "cell_type": "code",
   "execution_count": 9,
   "metadata": {},
   "outputs": [],
   "source": [
    "pop_data = pd.read_csv(\"pop_data.csv\")\n",
    "pop_states = pop_data[\"State\"]\n",
    "year_four = pop_data[\"2014\"]\n",
    "year_fift = pop_data[\"2015\"]\n",
    "year_sixt = pop_data[\"2016\"]\n",
    "year_sev = pop_data[\"2017\"]"
   ]
  },
  {
   "cell_type": "code",
   "execution_count": 31,
   "metadata": {},
   "outputs": [],
   "source": [
    "States = {\n",
    "        'AK': 'Alaska',\n",
    "        'AL': 'Alabama',\n",
    "        'AR': 'Arkansas',\n",
    "        'AS': 'American Samoa',\n",
    "        'AZ': 'Arizona',\n",
    "        'CA': 'California',\n",
    "        'CO': 'Colorado',\n",
    "        'CT': 'Connecticut',\n",
    "        'DC': 'District of Columbia',\n",
    "        'DE': 'Delaware',\n",
    "        'FL': 'Florida',\n",
    "        'GA': 'Georgia',\n",
    "        'GU': 'Guam',\n",
    "        'HI': 'Hawaii',\n",
    "        'IA': 'Iowa',\n",
    "        'ID': 'Idaho',\n",
    "        'IL': 'Illinois',\n",
    "        'IN': 'Indiana',\n",
    "        'KS': 'Kansas',\n",
    "        'KY': 'Kentucky',\n",
    "        'LA': 'Louisiana',\n",
    "        'MA': 'Massachusetts',\n",
    "        'MD': 'Maryland',\n",
    "        'ME': 'Maine',\n",
    "        'MI': 'Michigan',\n",
    "        'MN': 'Minnesota',\n",
    "        'MO': 'Missouri',\n",
    "        'MP': 'Northern Mariana Islands',\n",
    "        'MS': 'Mississippi',\n",
    "        'MT': 'Montana',\n",
    "        'NA': 'National',\n",
    "        'NC': 'North Carolina',\n",
    "        'ND': 'North Dakota',\n",
    "        'NE': 'Nebraska',\n",
    "        'NH': 'New Hampshire',\n",
    "        'NJ': 'New Jersey',\n",
    "        'NM': 'New Mexico',\n",
    "        'NV': 'Nevada',\n",
    "        'NY': 'New York',\n",
    "        'OH': 'Ohio',\n",
    "        'OK': 'Oklahoma',\n",
    "        'OR': 'Oregon',\n",
    "        'PA': 'Pennsylvania',\n",
    "        'PR': 'Puerto Rico',\n",
    "        'RI': 'Rhode Island',\n",
    "        'SC': 'South Carolina',\n",
    "        'SD': 'South Dakota',\n",
    "        'TN': 'Tennessee',\n",
    "        'TX': 'Texas',\n",
    "        'UT': 'Utah',\n",
    "        'VA': 'Virginia',\n",
    "        'VI': 'Virgin Islands',\n",
    "        'VT': 'Vermont',\n",
    "        'WA': 'Washington',\n",
    "        'WI': 'Wisconsin',\n",
    "        'WV': 'West Virginia',\n",
    "        'WY': 'Wyoming'\n",
    "}"
   ]
  },
  {
   "cell_type": "code",
   "execution_count": 34,
   "metadata": {},
   "outputs": [
    {
     "name": "stdout",
     "output_type": "stream",
     "text": [
      "Alabama\n",
      "Alabama\n",
      "Alaska\n",
      "Alaska\n",
      "Arizona\n",
      "Arizona\n",
      "Arkansas\n",
      "Arkansas\n",
      "California\n",
      "California\n",
      "Colorado\n",
      "Colorado\n",
      "Connecticut\n",
      "Connecticut\n",
      "Delaware\n",
      "Delaware\n",
      "District of Columbia\n",
      "District of Columbia\n",
      "Florida\n",
      "Florida\n",
      "Georgia\n",
      "Georgia\n",
      "Hawaii\n",
      "Hawaii\n",
      "Idaho\n",
      "Idaho\n",
      "Illinois\n",
      "Illinois\n",
      "Indiana\n",
      "Indiana\n",
      "Iowa\n",
      "Iowa\n",
      "Kansas\n",
      "Kansas\n",
      "Kentucky\n",
      "Kentucky\n",
      "Louisiana\n",
      "Louisiana\n",
      "Maine\n",
      "Maine\n",
      "Maryland\n",
      "Maryland\n",
      "Massachusetts\n",
      "Massachusetts\n",
      "Michigan\n",
      "Michigan\n",
      "Minnesota\n",
      "Minnesota\n",
      "Mississippi\n",
      "Mississippi\n",
      "Missouri\n",
      "Missouri\n",
      "Montana\n",
      "Montana\n",
      "Nebraska\n",
      "Nebraska\n",
      "Nevada\n",
      "Nevada\n",
      "New Hampshire\n",
      "New Hampshire\n",
      "New Jersey\n",
      "New Jersey\n",
      "New Mexico\n",
      "New Mexico\n",
      "New York\n",
      "New York\n",
      "North Carolina\n",
      "North Carolina\n",
      "North Dakota\n",
      "North Dakota\n",
      "Ohio\n",
      "Ohio\n",
      "Oklahoma\n",
      "Oklahoma\n",
      "Oregon\n",
      "Oregon\n",
      "Pennsylvania\n",
      "Pennsylvania\n",
      "Rhode Island\n",
      "Rhode Island\n",
      "South Carolina\n",
      "South Carolina\n",
      "South Dakota\n",
      "South Dakota\n",
      "Tennessee\n",
      "Tennessee\n",
      "Texas\n",
      "Texas\n",
      "Utah\n",
      "Utah\n",
      "Vermont\n",
      "Vermont\n",
      "Virginia\n",
      "Virginia\n",
      "Washington\n",
      "Washington\n",
      "West Virginia\n",
      "West Virginia\n",
      "Wisconsin\n",
      "Wisconsin\n",
      "Wyoming\n",
      "Wyoming\n"
     ]
    }
   ],
   "source": [
    "for i in range(len(pop_data)):\n",
    "    for state in States:\n",
    "        if States[state] == pop_states[i]:\n",
    "            population = population(i)\n",
    "            "
   ]
  },
  {
   "cell_type": "code",
   "execution_count": null,
   "metadata": {},
   "outputs": [],
   "source": [
    "def population(i):\n",
    "    new_pop = (year_four[i] + year_fift[i] + year_sixt[i] + year_sev[i]) // 4\n",
    "    return new_pop\n",
    "    \n",
    "        "
   ]
  },
  {
   "cell_type": "code",
   "execution_count": 19,
   "metadata": {},
   "outputs": [
    {
     "name": "stdout",
     "output_type": "stream",
     "text": [
      "    killed states\n",
      "0      267     AK\n",
      "1     1877     AL\n",
      "2      773     AR\n",
      "3     1086     AZ\n",
      "4     5516     CA\n",
      "5      792     CO\n",
      "6      339     CT\n",
      "7      447     DC\n",
      "8      214     DE\n",
      "9     3887     FL\n",
      "10    2451     GA\n",
      "11      63     HI\n",
      "12     273     IA\n",
      "13     166     ID\n",
      "14    3395     IL\n",
      "15    1599     IN\n",
      "16     536     KS\n",
      "17    1062     KY\n",
      "18    2171     LA\n",
      "19     472     MA\n",
      "20    1686     MD\n",
      "21     112     ME\n",
      "22    1579     MI\n",
      "23     458     MN\n",
      "24    2127     MO\n",
      "25    1174     MS\n",
      "26     154     MT\n",
      "27    2220     NC\n",
      "28      69     ND\n",
      "29     225     NE\n",
      "30      88     NH\n",
      "31    1156     NJ\n",
      "32     490     NM\n",
      "33     799     NV\n",
      "34    1690     NY\n",
      "35    2498     OH\n",
      "36     927     OK\n",
      "37     446     OR\n",
      "38    2382     PA\n",
      "39      62     RI\n",
      "40    1599     SC\n",
      "41      90     SD\n",
      "42    1810     TN\n",
      "43    5022     TX\n",
      "44     278     UT\n",
      "45    1456     VA\n",
      "46      57     VT\n",
      "47     845     WA\n",
      "48     862     WI\n",
      "49     331     WV\n",
      "50      73     WY\n"
     ]
    }
   ],
   "source": [
    "list_states = []\n",
    "list_killed=[]\n",
    "for key in states:\n",
    "    list_states.append(key)\n",
    "    list_killed.append(states[key])\n",
    "\n",
    "d = {'states': list_states, 'killed': list_killed}\n",
    "df = pd.DataFrame(data=d)\n",
    "print(df)\n"
   ]
  },
  {
   "cell_type": "code",
   "execution_count": 33,
   "metadata": {},
   "outputs": [],
   "source": [
    "import plotly.plotly as py\n",
    "import numpy as np\n",
    "import plotly.tools as tls\n",
    "\n",
    "tls.set_credentials_file(username=\"ElishaNieuwburg\", api_key=\"61kGTvRZ2BoIejY99Nbo\")"
   ]
  },
  {
   "cell_type": "code",
   "execution_count": 67,
   "metadata": {},
   "outputs": [],
   "source": [
    "scl = [[0.0, 'rgb(242,240,247)'],[0.2, 'rgb(168, 168, 226)'],[1.0, 'rgb(0,0,102)']]"
   ]
  },
  {
   "cell_type": "code",
   "execution_count": 68,
   "metadata": {},
   "outputs": [],
   "source": [
    "\n",
    "data = [dict(type='choropleth', colorscale = scl, autocolorscale=False, locations=df['states'], z=df['killed'], locationmode=\"USA-states\", marker = dict(\n",
    "            line = dict (\n",
    "                color = 'rgb(255,255,255)',\n",
    "                width = 2\n",
    "            ) ) )]"
   ]
  },
  {
   "cell_type": "code",
   "execution_count": 69,
   "metadata": {},
   "outputs": [
    {
     "data": {
      "text/plain": [
       "{'geo': {'lakecolor': 'rgb(255,255,255)',\n",
       "  'projection': {'type': 'albers usa'},\n",
       "  'scope': 'usa',\n",
       "  'showlakes': True},\n",
       " 'title': 'killed per state'}"
      ]
     },
     "execution_count": 69,
     "metadata": {},
     "output_type": "execute_result"
    }
   ],
   "source": [
    "layout = dict(title='killed per state', geo = dict(scope='usa', projection=dict(type='albers usa'), showlakes = True, lakecolor = 'rgb(255,255,255)',),)\n",
    "layout"
   ]
  },
  {
   "cell_type": "code",
   "execution_count": 70,
   "metadata": {},
   "outputs": [
    {
     "name": "stdout",
     "output_type": "stream",
     "text": [
      "High five! You successfully sent some data to your account on plotly. View your plot in your browser at https://plot.ly/~ElishaNieuwburg/0 or inside your plot.ly account where it is named 'killed per state map'\n"
     ]
    },
    {
     "data": {
      "text/html": [
       "<iframe id=\"igraph\" scrolling=\"no\" style=\"border:none;\" seamless=\"seamless\" src=\"https://plot.ly/~ElishaNieuwburg/0.embed\" height=\"525px\" width=\"100%\"></iframe>"
      ],
      "text/plain": [
       "<plotly.tools.PlotlyDisplay object>"
      ]
     },
     "execution_count": 70,
     "metadata": {},
     "output_type": "execute_result"
    }
   ],
   "source": [
    "fig = dict(data=data, layout=layout)\n",
    "\n",
    "py.iplot(fig, filename=\"killed per state map\")"
   ]
  }
 ],
 "metadata": {
  "kernelspec": {
   "display_name": "Python 3",
   "language": "python",
   "name": "python3"
  },
  "language_info": {
   "codemirror_mode": {
    "name": "ipython",
    "version": 3
   },
   "file_extension": ".py",
   "mimetype": "text/x-python",
   "name": "python",
   "nbconvert_exporter": "python",
   "pygments_lexer": "ipython3",
   "version": "3.6.3"
  }
 },
 "nbformat": 4,
 "nbformat_minor": 2
}
