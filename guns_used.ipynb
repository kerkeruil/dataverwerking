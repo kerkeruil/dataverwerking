{
 "cells": [
  {
   "cell_type": "code",
   "execution_count": 1,
   "metadata": {},
   "outputs": [],
   "source": [
    "import pandas as pd\n",
    "\n",
    "# read data\n",
    "data = pd.read_csv(\"data_clean.csv\")"
   ]
  },
  {
   "cell_type": "code",
   "execution_count": 39,
   "metadata": {},
   "outputs": [
    {
     "name": "stdout",
     "output_type": "stream",
     "text": [
      "239399\n",
      "Unknown 230378\n",
      "Other 1063\n",
      "Rifle 5271\n",
      "Handgun 25031\n",
      "357 Mag 824\n",
      "40 SW 2741\n",
      "22 LR 3354\n",
      "Shotgun 4265\n",
      "45 Auto 2364\n",
      "16 gauge 33\n",
      "12 gauge 1115\n",
      "9mm 6449\n",
      "38 Spl 1810\n",
      "30-30 Win 110\n",
      "25 Auto 612\n",
      "32 Auto 489\n",
      "7.62 [AK-47] 935\n",
      "380 Auto 2397\n",
      "308 Win 92\n",
      "410 gauge 96\n",
      "223 Rem [AR-15] 1610\n",
      "20 gauge 207\n",
      "44 Mag 195\n",
      "10mm 50\n",
      "30-06 Spr 84\n",
      "300 Win 23\n",
      "28 gauge 6\n"
     ]
    }
   ],
   "source": [
    "import re\n",
    "\n",
    "counter = 0\n",
    "\n",
    "test = \"0::Unknown||1::Rifle\"\n",
    "test = test.replace(\"::\", \":\")\n",
    "\n",
    "counter = 0\n",
    "gun_count = {}\n",
    "\n",
    "for item in data[\"gun_type\"]:\n",
    "    counter += 1\n",
    "    item = re.split(\"[|]+\", item)\n",
    "    for element in item:\n",
    "        #element = element.replace(\"::\", \":\")\n",
    "        element = element.split(':')[-1]\n",
    "        if element in gun_count:\n",
    "            gun_count[element] += 1\n",
    "        else:\n",
    "            gun_count[element] = 1\n",
    "            \n",
    "print(counter)\n",
    "for ding in gun_count:\n",
    "    print(ding, gun_count[ding])\n",
    "    "
   ]
  },
  {
   "cell_type": "code",
   "execution_count": null,
   "metadata": {},
   "outputs": [],
   "source": []
  }
 ],
 "metadata": {
  "kernelspec": {
   "display_name": "Python 3",
   "language": "python",
   "name": "python3"
  },
  "language_info": {
   "codemirror_mode": {
    "name": "ipython",
    "version": 3
   },
   "file_extension": ".py",
   "mimetype": "text/x-python",
   "name": "python",
   "nbconvert_exporter": "python",
   "pygments_lexer": "ipython3",
   "version": "3.6.3"
  }
 },
 "nbformat": 4,
 "nbformat_minor": 2
}
